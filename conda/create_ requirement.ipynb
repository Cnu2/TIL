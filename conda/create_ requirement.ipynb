{
 "cells": [
  {
   "attachments": {},
   "cell_type": "markdown",
   "metadata": {},
   "source": [
    "### 1. Conda 가상 환경을 활성화합니다."
   ]
  },
  {
   "cell_type": "code",
   "execution_count": null,
   "metadata": {},
   "outputs": [],
   "source": [
    "# !conda activate <name_of_virtual_environment>"
   ]
  },
  {
   "attachments": {},
   "cell_type": "markdown",
   "metadata": {},
   "source": [
    "### 2. conda 또는 pip를 사용하여 가상 환경에 필요한 패키지를 설치"
   ]
  },
  {
   "cell_type": "code",
   "execution_count": null,
   "metadata": {},
   "outputs": [],
   "source": [
    "# !conda install <package_name>\n",
    "# or\n",
    "# !pip install <package_name>"
   ]
  },
  {
   "attachments": {},
   "cell_type": "markdown",
   "metadata": {},
   "source": [
    "### 3. 설치된 패키지 목록을 requirements.txt. 파일로 내보냅니다."
   ]
  },
  {
   "cell_type": "code",
   "execution_count": null,
   "metadata": {},
   "outputs": [],
   "source": [
    "# !conda list --export > requirement.txt"
   ]
  },
  {
   "attachments": {},
   "cell_type": "markdown",
   "metadata": {},
   "source": [
    "이 명령은 가상 환경에 설치된 모든 패키지 및 해당 버전의 목록을 포함하는 현재 디렉터리에 requirements.txt 파일을 생성합니다."
   ]
  },
  {
   "attachments": {},
   "cell_type": "markdown",
   "metadata": {},
   "source": [
    "### 왜 필요할까?\n",
    "\n",
    "requirements.txt 파일은 재현성을 보장하고, 협업을 간소화하고, 배포를 더 쉽게 만들고, 시간이 지남에 따라 유지 관리를 간소화하기 때문에 모든 Python 프로젝트의 필수 부분입니다. "
   ]
  },
  {
   "cell_type": "markdown",
   "metadata": {},
   "source": []
  }
 ],
 "metadata": {
  "language_info": {
   "name": "python"
  },
  "orig_nbformat": 4
 },
 "nbformat": 4,
 "nbformat_minor": 2
}
